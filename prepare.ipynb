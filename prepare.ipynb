{
 "cells": [
  {
   "cell_type": "code",
   "execution_count": 41,
   "metadata": {},
   "outputs": [],
   "source": [
    "from os import listdir\n",
    "from os.path import isfile, join\n",
    "import polars as pl"
   ]
  },
  {
   "cell_type": "code",
   "execution_count": 42,
   "metadata": {},
   "outputs": [],
   "source": [
    "def get_files(dir: str):\n",
    "    onlyfiles = [join(dir, f) for f in listdir(dir) if isfile(join(dir, f))]\n",
    "    onlyfiles.sort()\n",
    "    return onlyfiles"
   ]
  },
  {
   "cell_type": "code",
   "execution_count": 43,
   "metadata": {},
   "outputs": [
    {
     "name": "stdout",
     "output_type": "stream",
     "text": [
      "data/train/imgs/Image0002.jpg\n",
      "data/train/masks/Image0002.png\n"
     ]
    },
    {
     "data": {
      "text/plain": [
       "(240, 240)"
      ]
     },
     "execution_count": 43,
     "metadata": {},
     "output_type": "execute_result"
    }
   ],
   "source": [
    "imgs = get_files(\"data/train/imgs\")\n",
    "masks = get_files(\"data/train/masks\")\n",
    "\n",
    "print(imgs[1]), print(masks[1])\n",
    "len(imgs), len(masks)"
   ]
  },
  {
   "cell_type": "code",
   "execution_count": 22,
   "metadata": {},
   "outputs": [],
   "source": [
    "df = pl.DataFrame({\n",
    "    \"id\": [i for i in range(len(imgs))],\n",
    "    \"imgs\": imgs,\n",
    "    \"masks\": masks,\n",
    "})\n",
    "\n",
    "df.write_csv(\"data/train.csv\")"
   ]
  },
  {
   "cell_type": "code",
   "execution_count": 23,
   "metadata": {},
   "outputs": [],
   "source": [
    "imgs = get_files(\"data/test/imgs\")\n",
    "\n",
    "df = pl.DataFrame({\n",
    "    \"id\": [i for i in range(len(imgs))],\n",
    "    \"imgs\": imgs,\n",
    "})\n",
    "\n",
    "df.write_csv(\"data/test.csv\")"
   ]
  }
 ],
 "metadata": {
  "kernelspec": {
   "display_name": "Python 3",
   "language": "python",
   "name": "python3"
  },
  "language_info": {
   "codemirror_mode": {
    "name": "ipython",
    "version": 3
   },
   "file_extension": ".py",
   "mimetype": "text/x-python",
   "name": "python",
   "nbconvert_exporter": "python",
   "pygments_lexer": "ipython3",
   "version": "3.10.6"
  },
  "orig_nbformat": 4
 },
 "nbformat": 4,
 "nbformat_minor": 2
}
